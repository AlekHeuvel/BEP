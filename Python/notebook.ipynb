{
 "cells": [
  {
   "cell_type": "code",
   "execution_count": 1,
   "metadata": {},
   "outputs": [
    {
     "name": "stdout",
     "output_type": "stream",
     "text": [
      "True\n"
     ]
    },
    {
     "name": "stderr",
     "output_type": "stream",
     "text": [
      "c:\\Users\\alekh\\AppData\\Local\\Programs\\Python\\Python312\\Lib\\site-packages\\torch\\__init__.py:1144: UserWarning: torch.set_default_tensor_type() is deprecated as of PyTorch 2.1, please use torch.set_default_dtype() and torch.set_default_device() as alternatives. (Triggered internally at C:\\actions-runner\\_work\\pytorch\\pytorch\\builder\\windows\\pytorch\\torch\\csrc\\tensor\\python_tensor.cpp:434.)\n",
      "  _C._set_default_tensor_type(t)\n"
     ]
    }
   ],
   "source": [
    "# Imports\n",
    "import math\n",
    "from timeit import timeit\n",
    "import torch as pt\n",
    "import numpy as np\n",
    "import matplotlib.pyplot as plt\n",
    "import scipy.optimize as opt\n",
    "from matplotlib.widgets import Slider\n",
    "\n",
    "print(pt.cuda.is_available())\n",
    "pt.device(\"cuda\" if pt.cuda.is_available() else \"cpu\")\n",
    "pt.set_default_tensor_type('torch.cuda.FloatTensor')\n",
    "\n"
   ]
  },
  {
   "cell_type": "code",
   "execution_count": 2,
   "metadata": {},
   "outputs": [],
   "source": [
    "resolution = 2000\n",
    "\n",
    "# Natural constants using atomic units\n",
    "permittivity = 1    # Vacuum permittivity (4 pi epsilon _0), defined as one in atomic units\n",
    "q = 1               # Elementary charge, defined as one in atomic units\n",
    "electron_field_strength = q / permittivity # Becomes one in atomic units\n",
    "\n",
    "# Other parameters\n",
    "dim_size = 6   # In units of bohr radius = 4 pi epsilon_0 h_bar^2 / (m_e e+^2), = 5.2917e-11 m\n"
   ]
  },
  {
   "cell_type": "code",
   "execution_count": 3,
   "metadata": {},
   "outputs": [],
   "source": [
    "# Define wavefunctions\n",
    "\n",
    "def psi(x1, x2, a1, a2, b):\n",
    "    return pt.exp(- (x1 - a1)**2 / b) * pt.exp(- (x2 - a2)**2 / b) * (x1 - x2)\n",
    "\n",
    "def psi_sq(x1, x2, a1, a2, b):\n",
    "    return pt.exp(-2 * (x1 - a1)**2 / b) * pt.exp(-2 * (x2 - a2)**2 / b) * (x1 - x2) ** 2\n",
    "\n",
    "def psi_sq_normalized(x1, x2, a1, a2, b):\n",
    "    norm = pt.pi * b / 4 * (2 * (a1-a2)**2 + b)\n",
    "    return psi_sq(x1, x2, a1, a2, b) / norm\n",
    "    \n",
    "def root1_psi_sq(x1, x2, a1, a2, b):\n",
    "    return pt.exp(-2 * (x1 - a1)**2 / b) * pt.exp(-2 * (x2 - a2)**2 / b) * (pt.abs((x1-x2)))\n",
    "\n",
    "def root2_psi_sq(x1, x2, a1, a2, b):\n",
    "    return pt.exp(-2 * (x1 - a1)**2 / b) * pt.exp(-2 * (x2 - a2)**2 / b) * (pt.abs((x1-x2))**0.5)\n",
    "\n",
    "def psi_sq_relative(r, R, a1, a2, b):\n",
    "    return pt.exp(-2/(2*b)*(r+(a1-a2))**2) * r**2 * pt.exp(-4/b * (R - 1/2 * (a1 + a2))**2)\n",
    "\n",
    "def psi_sq_relative_normalized(r, R, a1, a2, b):\n",
    "    norm = 1/2 * np.sqrt(b * pt.pi) * (2 * (a1-a2)**2 + b) * np.sqrt(pt.pi * b) / 2\n",
    "    return psi_sq_relative(r, R, a1, a2, b) / norm\n",
    "\n",
    "def phi_sq(p1, p2, a1, a2, b):\n",
    "    return ((a2-a1)**2/b + (p1-p2)**2 / 4) * pt.exp(-b * p1**2 / 2 - a1**2/(2*b) -b * p2**2 / 2 - a2**2/(2*b))\n",
    "\n",
    "def phi_sq_normalized(p1, p2, a1, a2, b):\n",
    "    norm = (1+2 * (a1-a2)**2) * pt.pi / (b**2)\n",
    "    return phi_sq(p1, p2, a1, a2, b) / norm\n",
    "\n",
    "def psi_d2_dx12(x1, x2, a1, a2, b):\n",
    "    exp = pt.exp(-(x1-a1)**2/b) * pt.exp(-(x2-a2)**2/b) \n",
    "    # f = 4*a1 - 6*x1 + 2*x2 - (4*(x2-x1)*(x1-a1)**2) / b**2 - (4*a2 - 6*x2 + 2*x1 - (4*(x1-x2)*(x2-a2)**2) / b**2)  \n",
    "    f1 =  1/b * (-6*x1  + 4*x1**3/b - 8*a1*x1**2/b + 4*a1**2*x1/b + 4*a1 + 2*x2 - 4*x1**2*x2/b + 8*x1*x2*a1/b - 4*x2*a1**2/b)\n",
    "    f2 = -1/b * (-6*x2  + 4*x2**3/b - 8*a2*x2**2/b + 4*a2**2*x2/b + 4*a2 + 2*x1 - 4*x2**2*x1/b + 8*x2*x1*a2/b - 4*x1*a2**2/b)\n",
    "    \n",
    "    f1 =  (4 * x1**3 + (-4 * x2 - 8 * a1) * x1**2 + (8 * a1 * x2 - 6 * b + 4 * a1**2) * x1 + (2 * b - 4 * a1**2) * x2 + 4 * a1 * b) / b**2\n",
    "    f2 = -(4 * x2**3 + (-4 * x1 - 8 * a2) * x2**2 + (8 * a2 * x1 - 6 * b + 4 * a2**2) * x2 + (2 * b - 4 * a2**2) * x1 + 4 * a2 * b) / b**2\n",
    "    return exp * (f1 + f2)\n"
   ]
  },
  {
   "cell_type": "code",
   "execution_count": 4,
   "metadata": {},
   "outputs": [
    {
     "name": "stderr",
     "output_type": "stream",
     "text": [
      "C:\\Users\\alekh\\AppData\\Local\\Temp\\ipykernel_7620\\2662795652.py:10: FutureWarning: You are using `torch.load` with `weights_only=False` (the current default value), which uses the default pickle module implicitly. It is possible to construct malicious pickle data which will execute arbitrary code during unpickling (See https://github.com/pytorch/pytorch/blob/main/SECURITY.md#untrusted-models for more details). In a future release, the default value for `weights_only` will be flipped to `True`. This limits the functions that could be executed during unpickling. Arbitrary objects will no longer be allowed to be loaded via this mode unless they are explicitly allowlisted by the user via `torch.serialization.add_safe_globals`. We recommend you start setting `weights_only=True` for any use case where you don't have full control of the loaded file. Please open an issue on GitHub for any issues related to this experimental feature.\n",
      "  Z = pt.load(\"results_physical.pt\")\n"
     ]
    }
   ],
   "source": [
    "%matplotlib qt\n",
    "fig = plt.figure()\n",
    "ax = plt.axes(projection = \"3d\")\n",
    "x1 = pt.linspace(-2, 2, 300)\n",
    "x2 = pt.linspace(-2, 2, 300)\n",
    "X1, X2 = pt.meshgrid(x1, x2, indexing='ij')\n",
    "# pos = ax.imshow(va.get_pot(X1, X2, kappa, theta_ext, E_ext, d, h).cpu(), extent=[-dim_size, dim_size, -dim_size, dim_size])\n",
    "# cbar = fig.colorbar(pos, ax=ax)\n",
    "\n",
    "Z = pt.load(\"results_physical.pt\")\n",
    "ax.plot_surface(X1.cpu(), X2.cpu(), Z.cpu()*1000, cmap='viridis')\n",
    "\n",
    "ax.set_xlabel(r'x1 [$\\text{a}_\\text{0}$]') # In units of bohr radius = 4 pi epsilon_0 h_bar^2 / (m_e e+^2), = 5.2917e-11 m\n",
    "ax.set_ylabel(r'x2 [$\\text{a}_\\text{0}$]') # In units of bohr radius = 4 pi epsilon_0 h_bar^2 / (m_e e+^2), = 5.2917e-11 m\n",
    "ax.set_zlabel(r'E [$\\text{E}_\\text{h} x10^{-3}$]') # In units of hartree energy, with E_h = e^2 / (4 pi epsilon_0 a_0) = 4.3597e-18 J\n",
    "plt.show()  "
   ]
  },
  {
   "cell_type": "code",
   "execution_count": 6,
   "metadata": {},
   "outputs": [
    {
     "name": "stderr",
     "output_type": "stream",
     "text": [
      "C:\\Users\\alekh\\AppData\\Local\\Temp\\ipykernel_24108\\3488573912.py:7: FutureWarning: You are using `torch.load` with `weights_only=False` (the current default value), which uses the default pickle module implicitly. It is possible to construct malicious pickle data which will execute arbitrary code during unpickling (See https://github.com/pytorch/pytorch/blob/main/SECURITY.md#untrusted-models for more details). In a future release, the default value for `weights_only` will be flipped to `True`. This limits the functions that could be executed during unpickling. Arbitrary objects will no longer be allowed to be loaded via this mode unless they are explicitly allowlisted by the user via `torch.serialization.add_safe_globals`. We recommend you start setting `weights_only=True` for any use case where you don't have full control of the loaded file. Please open an issue on GitHub for any issues related to this experimental feature.\n",
      "  Z = pt.load(\"results_unphysical.pt\")\n"
     ]
    }
   ],
   "source": [
    "fig = plt.figure()\n",
    "ax = plt.axes(projection = \"3d\")\n",
    "x1 = pt.linspace(-3, 3, 300)\n",
    "x2 = pt.linspace(-3, 3, 300)\n",
    "\n",
    "X1, X2 = pt.meshgrid(x1, x2, indexing='ij')\n",
    "Z = pt.load(\"results_unphysical.pt\")\n",
    "# Print location Z minima\n",
    "ax.plot_surface(X1.cpu(), X2.cpu(), Z.cpu()*1000, cmap='viridis')\n",
    "plt.xlabel(r'$\\mu_1$ [$\\text{a}_\\text{0}$]') # In units of bohr radius = 4 pi epsilon_0 h_bar^2 / (m_e e+^2), = 5.2917e-11 m\n",
    "plt.ylabel(r'$\\mu_2$ [$\\text{a}_\\text{0}$]') # In units of bohr radius = 4 pi epsilon_0 h_bar^2 / (m_e e+^2), = 5.2917e-11 m\n",
    "ax.set_zlabel(r'$\\text{E}$ [$\\text{E}_\\text{h} x10^{-3}$]') # In units of hartree energy, with E_h = e^2 / (4 pi epsilon_0 a_0) = 4.3597e-18 J\n",
    "plt.show()"
   ]
  },
  {
   "cell_type": "code",
   "execution_count": 7,
   "metadata": {},
   "outputs": [
    {
     "name": "stderr",
     "output_type": "stream",
     "text": [
      "C:\\Users\\alekh\\AppData\\Local\\Temp\\ipykernel_24108\\4110490742.py:7: FutureWarning: You are using `torch.load` with `weights_only=False` (the current default value), which uses the default pickle module implicitly. It is possible to construct malicious pickle data which will execute arbitrary code during unpickling (See https://github.com/pytorch/pytorch/blob/main/SECURITY.md#untrusted-models for more details). In a future release, the default value for `weights_only` will be flipped to `True`. This limits the functions that could be executed during unpickling. Arbitrary objects will no longer be allowed to be loaded via this mode unless they are explicitly allowlisted by the user via `torch.serialization.add_safe_globals`. We recommend you start setting `weights_only=True` for any use case where you don't have full control of the loaded file. Please open an issue on GitHub for any issues related to this experimental feature.\n",
      "  Z = pt.load(\"results_intermediate08.pt\")\n"
     ]
    }
   ],
   "source": [
    "fig = plt.figure()\n",
    "ax = plt.axes(projection = \"3d\")\n",
    "x1 = pt.linspace(-3, 3, 400)\n",
    "x2 = pt.linspace(-3, 3, 400)\n",
    "\n",
    "X1, X2 = pt.meshgrid(x1, x2, indexing='ij')\n",
    "Z = pt.load(\"results_intermediate08.pt\")\n",
    "# Print location Z minima\n",
    "ax.plot_surface(X1.cpu(), X2.cpu(), Z.cpu()*1000, cmap='viridis')\n",
    "plt.xlabel(r'$\\mu_1$ [$\\text{a}_\\text{0}$]') # In units of bohr radius = 4 pi epsilon_0 h_bar^2 / (m_e e+^2), = 5.2917e-11 m\n",
    "plt.ylabel(r'$\\mu_2$ [$\\text{a}_\\text{0}$]') # In units of bohr radius = 4 pi epsilon_0 h_bar^2 / (m_e e+^2), = 5.2917e-11 m\n",
    "ax.set_zlabel(r'$\\text{E}$ [$\\text{E}_\\text{h} x10^{-3}$]') # In units of hartree energy, with E_h = e^2 / (4 pi epsilon_0 a_0) = 4.3597e-18 J\n",
    "plt.show()"
   ]
  },
  {
   "cell_type": "code",
   "execution_count": 8,
   "metadata": {},
   "outputs": [
    {
     "name": "stderr",
     "output_type": "stream",
     "text": [
      "C:\\Users\\alekh\\AppData\\Local\\Temp\\ipykernel_24108\\2162636906.py:7: FutureWarning: You are using `torch.load` with `weights_only=False` (the current default value), which uses the default pickle module implicitly. It is possible to construct malicious pickle data which will execute arbitrary code during unpickling (See https://github.com/pytorch/pytorch/blob/main/SECURITY.md#untrusted-models for more details). In a future release, the default value for `weights_only` will be flipped to `True`. This limits the functions that could be executed during unpickling. Arbitrary objects will no longer be allowed to be loaded via this mode unless they are explicitly allowlisted by the user via `torch.serialization.add_safe_globals`. We recommend you start setting `weights_only=True` for any use case where you don't have full control of the loaded file. Please open an issue on GitHub for any issues related to this experimental feature.\n",
      "  Z = pt.load(\"results_intermediate1.pt\")\n"
     ]
    }
   ],
   "source": [
    "fig = plt.figure()\n",
    "ax = plt.axes(projection = \"3d\")\n",
    "x1 = pt.linspace(-3, 3, 400)\n",
    "x2 = pt.linspace(-3, 3, 400)\n",
    "\n",
    "X1, X2 = pt.meshgrid(x1, x2, indexing='ij')\n",
    "Z = pt.load(\"results_intermediate1.pt\")\n",
    "ax.plot_surface(X1.cpu(), X2.cpu(), Z.cpu()*1000, cmap='viridis')\n",
    "plt.xlabel(r'$\\mu_1$ [$\\text{a}_\\text{0}$]') # In units of bohr radius = 4 pi epsilon_0 h_bar^2 / (m_e e+^2), = 5.2917e-11 m\n",
    "plt.ylabel(r'$\\mu_2$ [$\\text{a}_\\text{0}$]') # In units of bohr radius = 4 pi epsilon_0 h_bar^2 / (m_e e+^2), = 5.2917e-11 m\n",
    "ax.set_zlabel(r'$\\text{E}$ [$\\text{E}_\\text{h} x10^{-3}$]') # In units of hartree energy, with E_h = e^2 / (4 pi epsilon_0 a_0) = 4.3597e-18 J\n",
    "plt.show()"
   ]
  },
  {
   "cell_type": "code",
   "execution_count": 5,
   "metadata": {},
   "outputs": [
    {
     "name": "stderr",
     "output_type": "stream",
     "text": [
      "C:\\Users\\alekh\\AppData\\Local\\Temp\\ipykernel_7620\\2957908699.py:7: FutureWarning: You are using `torch.load` with `weights_only=False` (the current default value), which uses the default pickle module implicitly. It is possible to construct malicious pickle data which will execute arbitrary code during unpickling (See https://github.com/pytorch/pytorch/blob/main/SECURITY.md#untrusted-models for more details). In a future release, the default value for `weights_only` will be flipped to `True`. This limits the functions that could be executed during unpickling. Arbitrary objects will no longer be allowed to be loaded via this mode unless they are explicitly allowlisted by the user via `torch.serialization.add_safe_globals`. We recommend you start setting `weights_only=True` for any use case where you don't have full control of the loaded file. Please open an issue on GitHub for any issues related to this experimental feature.\n",
      "  Z = pt.load(\"results_intermediate15.pt\")\n"
     ]
    }
   ],
   "source": [
    "fig = plt.figure()\n",
    "ax = plt.axes(projection = \"3d\")\n",
    "x1 = pt.linspace(-3, 3, 400)\n",
    "x2 = pt.linspace(-3, 3, 400)\n",
    "\n",
    "X1, X2 = pt.meshgrid(x1, x2, indexing='ij')\n",
    "Z = pt.load(\"results_intermediate15.pt\")\n",
    "ax.plot_surface(X1.cpu(), X2.cpu(), Z.cpu()*1000, cmap='viridis')\n",
    "plt.xlabel(r'$\\mu_1$ [$\\text{a}_\\text{0}$]') # In units of bohr radius = 4 pi epsilon_0 h_bar^2 / (m_e e+^2), = 5.2917e-11 m\n",
    "plt.ylabel(r'$\\mu_2$ [$\\text{a}_\\text{0}$]') # In units of bohr radius = 4 pi epsilon_0 h_bar^2 / (m_e e+^2), = 5.2917e-11 m\n",
    "ax.set_zlabel(r'$\\text{E}$ [$\\text{E}_\\text{h} x10^{-3}$]') # In units of hartree energy, with E_h = e^2 / (4 pi epsilon_0 a_0) = 4.3597e-18 J\n",
    "plt.show()"
   ]
  },
  {
   "cell_type": "markdown",
   "metadata": {},
   "source": [
    "fig = plt.figure()\n",
    "ax = plt.axes(projection = \"3d\")\n",
    "x1 = pt.linspace(-3, 3, 400)\n",
    "x2 = pt.linspace(-3, 3, 400)\n",
    "\n",
    "X1, X2 = pt.meshgrid(x1, x2, indexing='ij')\n",
    "Z = pt.load(\"results_intermediate15.pt\")\n",
    "ax.plot_surface(X1.cpu(), X2.cpu(), Z.cpu()*1000, cmap='viridis')\n",
    "plt.xlabel(r'$\\mu_1$ [$\\text{a}_\\text{0}$]') # In units of bohr radius = 4 pi epsilon_0 h_bar^2 / (m_e e+^2), = 5.2917e-11 m\n",
    "plt.ylabel(r'$\\mu_2$ [$\\text{a}_\\text{0}$]') # In units of bohr radius = 4 pi epsilon_0 h_bar^2 / (m_e e+^2), = 5.2917e-11 m\n",
    "ax.set_zlabel(r'$\\text{E}$ [$\\text{E}_\\text{h} x10^{-3}$]') # In units of hartree energy, with E_h = e^2 / (4 pi epsilon_0 a_0) = 4.3597e-18 J\n",
    "plt.show()"
   ]
  },
  {
   "cell_type": "code",
   "execution_count": 10,
   "metadata": {},
   "outputs": [
    {
     "name": "stderr",
     "output_type": "stream",
     "text": [
      "C:\\Users\\alekh\\AppData\\Local\\Temp\\ipykernel_17468\\811877557.py:7: FutureWarning: You are using `torch.load` with `weights_only=False` (the current default value), which uses the default pickle module implicitly. It is possible to construct malicious pickle data which will execute arbitrary code during unpickling (See https://github.com/pytorch/pytorch/blob/main/SECURITY.md#untrusted-models for more details). In a future release, the default value for `weights_only` will be flipped to `True`. This limits the functions that could be executed during unpickling. Arbitrary objects will no longer be allowed to be loaded via this mode unless they are explicitly allowlisted by the user via `torch.serialization.add_safe_globals`. We recommend you start setting `weights_only=True` for any use case where you don't have full control of the loaded file. Please open an issue on GitHub for any issues related to this experimental feature.\n",
      "  Z = pt.load(\"results_intermediate2.pt\")\n"
     ]
    }
   ],
   "source": [
    "fig = plt.figure()\n",
    "ax = plt.axes(projection = \"3d\")\n",
    "x1 = pt.linspace(-3, 3, 400)\n",
    "x2 = pt.linspace(-3, 3, 400)\n",
    "# h = 1\n",
    "X1, X2 = pt.meshgrid(x1, x2, indexing='ij')\n",
    "Z = pt.load(\"results_intermediate2.pt\")\n",
    "ax.plot_surface(X1.cpu(), X2.cpu(), Z.cpu()*1000, cmap='viridis')\n",
    "plt.xlabel(r'$\\mu_1$ [$\\text{a}_\\text{0}$]') # In units of bohr radius = 4 pi epsilon_0 h_bar^2 / (m_e e+^2), = 5.2917e-11 m\n",
    "plt.ylabel(r'$\\mu_2$ [$\\text{a}_\\text{0}$]') # In units of bohr radius = 4 pi epsilon_0 h_bar^2 / (m_e e+^2), = 5.2917e-11 m\n",
    "ax.set_zlabel(r'$\\text{E}$ [$\\text{E}_\\text{h} x10^{-3}$]') # In units of hartree energy, with E_h = e^2 / (4 pi epsilon_0 a_0) = 4.3597e-18 J\n",
    "plt.show()"
   ]
  },
  {
   "cell_type": "code",
   "execution_count": 16,
   "metadata": {},
   "outputs": [],
   "source": [
    "fig = plt.figure()\n",
    "ax = plt.axes(projection = \"3d\")\n",
    "x1 = pt.linspace(-3, 3, 300)\n",
    "x2 = pt.linspace(-3, 3, 300)\n",
    "\n",
    "X1, X2 = pt.meshgrid(x1, x2, indexing='ij')\n",
    "\n",
    "mu1 = 0\n",
    "mu2 = 0.5\n",
    "b = 2\n",
    "\n",
    "Z = psi_sq_normalized(X1, X2, mu1, mu2, b)\n",
    "\n",
    "ax.plot_surface(X1.cpu(), X2.cpu(), Z.cpu(), cmap='viridis')\n",
    "# plot vertical line\n",
    "x1 = b * (2 * mu1 - mu2 +  2 * mu1 * (mu1-mu2) ** 2) / (2 * (mu1 - mu2) ** 2 + b)\n",
    "x2 = b * (2 * mu2 - mu1 +  2 * mu2 * (mu2-mu1) ** 2) / (2 * (mu2 - mu1) ** 2 + b)\n",
    "ax.plot([x1, x1], [x2, x2], [0, 0.5], color='red')\n",
    "plt.show()\n"
   ]
  },
  {
   "cell_type": "code",
   "execution_count": 10,
   "metadata": {},
   "outputs": [],
   "source": [
    "fig = plt.figure()\n",
    "ax = plt.axes(projection = \"3d\")\n",
    "x1 = pt.linspace(-3, 3, 300)\n",
    "x2 = pt.linspace(-3, 3, 300)\n",
    "\n",
    "X1, X2 = pt.meshgrid(x1, x2, indexing='ij')\n",
    "\n",
    "mu1 = 0\n",
    "mu2 = 0.5\n",
    "b = 2\n",
    "\n",
    "Z = root1_psi_sq(X1, X2, mu1, mu2, b)\n",
    "Z2 = root2_psi_sq(X1, X2, mu1, mu2, b)\n",
    "Z3 = psi_sq_normalized(X1, X2, mu1, mu2, b)\n",
    "\n",
    "ax.plot_surface(X1.cpu(), X2.cpu(), Z.cpu()/pt.sum(Z.cpu()), cmap='viridis')\n",
    "# ax.plot_surface(X1.cpu(), X2.cpu(), Z2.cpu()/pt.sum(Z2.cpu()), cmap='Greens')\n",
    "ax.plot_surface(X1.cpu(), X2.cpu(), Z3.cpu()/pt.sum(Z3.cpu()), cmap='coolwarm')\n",
    "\n",
    "plt.show()\n"
   ]
  },
  {
   "cell_type": "code",
   "execution_count": null,
   "metadata": {},
   "outputs": [],
   "source": []
  }
 ],
 "metadata": {
  "kernelspec": {
   "display_name": "Python 3",
   "language": "python",
   "name": "python3"
  },
  "language_info": {
   "codemirror_mode": {
    "name": "ipython",
    "version": 3
   },
   "file_extension": ".py",
   "mimetype": "text/x-python",
   "name": "python",
   "nbconvert_exporter": "python",
   "pygments_lexer": "ipython3",
   "version": "3.12.1"
  }
 },
 "nbformat": 4,
 "nbformat_minor": 2
}
